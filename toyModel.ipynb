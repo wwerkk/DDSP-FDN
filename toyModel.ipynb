{
 "cells": [
  {
   "cell_type": "code",
   "execution_count": null,
   "metadata": {},
   "outputs": [],
   "source": [
    "import torch\n",
    "import torch.nn as nn\n",
    "import torch.optim as optim\n",
    "import librosa\n",
    "import numpy as np\n",
    "\n",
    "# Define the neural network model\n",
    "\n",
    "class ReverbNet(nn.Module):\n",
    "    def __init__(self):\n",
    "        super(ReverbNet, self).__init__()\n",
    "        self.fc1 = nn.Linear(2048, 512)  # Assume input audio is 1024 samples for dry and 1024 for wet\n",
    "        self.fc2 = nn.Linear(512, 128)\n",
    "        self.fc3 = nn.Linear(128, 7)  # Output is 7 reverb parameters\n",
    "\n",
    "    def forward(self, x):\n",
    "        x = torch.relu(self.fc1(x))\n",
    "        x = torch.relu(self.fc2(x))\n",
    "        x = self.fc3(x)\n",
    "        return x\n",
    "\n",
    "# Load dry and reverberated audio pairs\n",
    "# This is just placeholder code, replace with your actual data loading code\n",
    "dry_audio, _ = librosa.load('dry.wav', sr=None)\n",
    "reverb_audio, _ = librosa.load('reverb.wav', sr=None)\n",
    "\n",
    "# Stack dry and reverberated audio\n",
    "input_data = torch.tensor(np.stack((dry_audio, reverb_audio)), dtype=torch.float32)\n",
    "\n",
    "# Placeholder for target data, replace with your actual reverb parameters\n",
    "target_data = torch.tensor([0.7, 0.7, 0.7, 0.5, 0.5, 0.5, 0.5], dtype=torch.float32)  # 7 reverb parameters\n",
    "\n",
    "# Create the network, loss function and optimizer\n",
    "model = ReverbNet()\n",
    "criterion = nn.MSELoss()\n",
    "optimizer = optim.Adam(model.parameters(), lr=0.001)\n",
    "\n",
    "# Training loop\n",
    "for epoch in range(100):  # number of epochs\n",
    "    optimizer.zero_grad()\n",
    "    output = model(input_data)\n",
    "    loss = criterion(output, target_data)\n",
    "    loss.backward()\n",
    "    optimizer.step()\n",
    "    if epoch % 10 == 0:\n",
    "        print(f'Epoch: {epoch}, Loss: {loss.item()}')"
   ]
  }
 ],
 "metadata": {
  "language_info": {
   "name": "python"
  },
  "orig_nbformat": 4
 },
 "nbformat": 4,
 "nbformat_minor": 2
}
