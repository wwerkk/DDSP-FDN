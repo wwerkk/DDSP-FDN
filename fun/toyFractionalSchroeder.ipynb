{
 "cells": [
  {
   "cell_type": "code",
   "execution_count": 2,
   "metadata": {},
   "outputs": [],
   "source": [
    "import numpy as np\n",
    "import soundfile as sf\n",
    "\n",
    "# Define Fractional Delay Filter\n",
    "def fractional_delay(input_signal, delay):\n",
    "    output_signal = np.zeros_like(input_signal)\n",
    "    for i in range(len(input_signal)):\n",
    "        index = i - delay\n",
    "        index_floor = int(np.floor(index))\n",
    "        frac = index - index_floor\n",
    "        if index_floor < 0 or index_floor >= len(input_signal) - 1:\n",
    "            continue\n",
    "        output_signal[i] = (1 - frac) * input_signal[index_floor] + frac * input_signal[index_floor + 1]\n",
    "    return output_signal\n",
    "\n",
    "# Allpass Filter using Fractional Delay\n",
    "def fractional_allpass(input_signal, delay, gain):\n",
    "    delayed_signal = fractional_delay(input_signal, delay)\n",
    "    return -gain * input_signal + delayed_signal + gain * delayed_signal[0]\n",
    "\n",
    "# Comb Filter using Fractional Delay\n",
    "def fractional_comb(input_signal, delay, gain):\n",
    "    delayed_signal = fractional_delay(input_signal, delay)\n",
    "    return input_signal + gain * delayed_signal\n",
    "\n",
    "# Freeverb using Fractional Delay\n",
    "def fractional_freeverb(input_signal, fs, rt60):\n",
    "    # Define delay lengths\n",
    "    allpass_delays = [347.7, 113.1, 37.8]  # in samples\n",
    "    comb_delays = [1687.3, 1601.5, 2053.7, 2251.1]  # in samples\n",
    "\n",
    "    # Calculate decay factors for 60dB decay\n",
    "    allpass_gains = [0.7, 0.7, 0.7]\n",
    "    comb_gains = [10 ** (-3 * d / (fs * rt60)) for d in comb_delays]\n",
    "\n",
    "    # Apply allpass filters\n",
    "    for delay, gain in zip(allpass_delays, allpass_gains):\n",
    "        input_signal = allpass(input_signal, delay, gain)\n",
    "\n",
    "    # Apply comb filters\n",
    "    output_signal = np.zeros_like(input_signal)\n",
    "    for delay, gain in zip(comb_delays, comb_gains):\n",
    "        output_signal += comb(input_signal, delay, gain)\n",
    "\n",
    "    return output_signal\n",
    "\n",
    "# Load an audio file\n",
    "input_signal, fs = sf.read('data/freeverb_dataset/dry/balloon_burst_1.wav')\n",
    "\n",
    "# Apply Schroeder Reverb\n",
    "output_signal = schroeder_reverb(input_signal, fs, rt60=1.2)  # rt60 is the reverb time in seconds\n",
    "\n",
    "# Save the output audio file\n",
    "sf.write('output.wav', output_signal, fs)"
   ]
  }
 ],
 "metadata": {
  "kernelspec": {
   "display_name": "metal",
   "language": "python",
   "name": "python3"
  },
  "language_info": {
   "codemirror_mode": {
    "name": "ipython",
    "version": 3
   },
   "file_extension": ".py",
   "mimetype": "text/x-python",
   "name": "python",
   "nbconvert_exporter": "python",
   "pygments_lexer": "ipython3",
   "version": "3.10.10"
  },
  "orig_nbformat": 4
 },
 "nbformat": 4,
 "nbformat_minor": 2
}
