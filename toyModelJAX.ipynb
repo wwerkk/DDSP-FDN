{
 "cells": [
  {
   "cell_type": "code",
   "execution_count": null,
   "metadata": {},
   "outputs": [],
   "source": [
    "import jax\n",
    "import jax.numpy as jnp\n",
    "from jax import grad, jit, vmap\n",
    "from flax import linen as nn\n",
    "from flax.training import train_state\n",
    "from flax.training.common_utils import get_metrics, onehot, shard, shard_prng_key\n",
    "import optax\n",
    "import librosa\n",
    "import numpy as np\n",
    "\n",
    "# Define the neural network model\n",
    "\n",
    "class ReverbNet(nn.Module):\n",
    "    def setup(self):\n",
    "        self.fc1 = nn.Dense(512)\n",
    "        self.fc2 = nn.Dense(128)\n",
    "        self.fc3 = nn.Dense(7)  # Output is 7 reverb parameters\n",
    "\n",
    "    def __call__(self, x):\n",
    "        x = nn.relu(self.fc1(x))\n",
    "        x = nn.relu(self.fc2(x))\n",
    "        x = self.fc3(x)\n",
    "        return x\n",
    "\n",
    "# Load dry and reverberated audio pairs\n",
    "# This is just placeholder code, replace with your actual data loading code\n",
    "dry_audio, _ = librosa.load('dry.wav', sr=None)\n",
    "reverb_audio, _ = librosa.load('reverb.wav', sr=None)\n",
    "\n",
    "# Stack dry and reverberated audio\n",
    "input_data = jnp.stack((dry_audio, reverb_audio))\n",
    "\n",
    "# Placeholder for target data, replace with your actual reverb parameters\n",
    "target_data = jnp.array([0.7, 0.7, 0.7, 0.5, 0.5, 0.5, 0.5])  # 7 reverb parameters\n",
    "\n",
    "# Create the network, loss function and optimizer\n",
    "model = ReverbNet()\n",
    "params = model.init(jax.random.PRNGKey(0), input_data)\n",
    "loss_fn = jit(lambda params, x, y: jnp.mean((model.apply(params, x) - y) ** 2))\n",
    "optimizer = optax.adam(0.001)\n",
    "\n",
    "# Training loop\n",
    "for epoch in range(100):  # number of epochs\n",
    "    grads = grad(loss_fn)(params, input_data, target_data)\n",
    "    updates, _ = optimizer.update(grads, params)\n",
    "    params = optax.apply_updates(params, updates)\n",
    "    if epoch % 10 == 0:\n",
    "        print(f'Epoch: {epoch}, Loss: {loss_fn(params, input_data, target_data)}')"
   ]
  }
 ],
 "metadata": {
  "language_info": {
   "name": "python"
  },
  "orig_nbformat": 4
 },
 "nbformat": 4,
 "nbformat_minor": 2
}
