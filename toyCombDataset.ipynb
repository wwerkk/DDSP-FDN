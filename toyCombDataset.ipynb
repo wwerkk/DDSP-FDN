{
 "cells": [
  {
   "cell_type": "code",
   "execution_count": 28,
   "metadata": {},
   "outputs": [],
   "source": [
    "import os\n",
    "import numpy as np\n",
    "from scipy.io import wavfile\n",
    "from scipy.signal import lfilter"
   ]
  },
  {
   "cell_type": "code",
   "execution_count": 33,
   "metadata": {},
   "outputs": [],
   "source": [
    "# Function to apply a comb filter to audio data\n",
    "def apply_comb_filter(data, fs, w0, gain):\n",
    "    delay = int(fs / w0)  # Calculate the delay in samples\n",
    "    feedback_gain = gain  # Feedback gain for the comb filter\n",
    "    comb_filter = np.zeros(delay + 1)\n",
    "    comb_filter[0] = 1\n",
    "\n",
    "    # Apply the comb filter using a difference equation\n",
    "    filtered_data = lfilter([1], comb_filter, data)\n",
    "    filtered_data[delay:] -= feedback_gain * filtered_data[:-delay]\n",
    "\n",
    "    return filtered_data"
   ]
  },
  {
   "cell_type": "code",
   "execution_count": 31,
   "metadata": {},
   "outputs": [],
   "source": [
    "# Function to process audio files and generate dataset\n",
    "# def create_dataset(audio_folder, target_folder, param_folder, w_values=[100, 200, 300, 400, 500], g_values=[0.2, 0.4, 0.6, 0.8, 1.0]):\n",
    "def create_dataset(audio_folder, target_folder, param_folder, n_examples):\n",
    "    # Create target folder if it doesn't exist\n",
    "    if not os.path.exists(target_folder):\n",
    "        os.makedirs(target_folder)\n",
    "    if not os.path.exists(param_folder):\n",
    "        os.makedirs(param_folder)\n",
    "\n",
    "    # List all audio files in the input folder\n",
    "    audio_files = os.listdir(audio_folder)\n",
    "\n",
    "    for audio_file in audio_files:\n",
    "        # Load the audio file\n",
    "        audio_path = os.path.join(audio_folder, audio_file)\n",
    "        fs, audio_data = wavfile.read(audio_path)\n",
    "\n",
    "        for i, (w, gain) in enumerate(zip(w_values, g_values)):\n",
    "            # Apply the comb filter with gain to the audio data\n",
    "            filtered_data = apply_comb_filter(audio_data, fs, w, gain)\n",
    "\n",
    "            # Save the filtered data to a new audio file\n",
    "            # target_path = os.path.join(target_folder, f'{audio_file}_{i}.wav')\n",
    "            target_path = os.path.join(target_folder, f'{audio_file}')\n",
    "            wavfile.write(target_path, fs, filtered_data.astype(np.int16))\n",
    "\n",
    "            # Save the w0 and gain values as targets for the neural network\n",
    "            param_values = np.array([w, gain])\n",
    "            param_file = f'{audio_file}_{i}.npy'\n",
    "            param_file = f'{audio_file}.npy'\n",
    "            param_path = os.path.join(param_folder, param_file)\n",
    "            np.save(param_path, param_values)\n",
    "\n",
    "        print(f'Processed: {audio_file}')"
   ]
  },
  {
   "cell_type": "code",
   "execution_count": 32,
   "metadata": {},
   "outputs": [
    {
     "name": "stdout",
     "output_type": "stream",
     "text": [
      "Processed: balloon_burst_16.wav\n",
      "Processed: balloon_burst_17.wav\n",
      "Processed: balloon_burst_29.wav\n",
      "Processed: balloon_burst_15.wav\n",
      "Processed: balloon_burst_14.wav\n",
      "Processed: balloon_burst_28.wav\n",
      "Processed: balloon_burst_10.wav\n",
      "Processed: balloon_burst_38.wav\n",
      "Processed: balloon_burst_39.wav\n",
      "Processed: balloon_burst_11.wav\n",
      "Processed: balloon_burst_13.wav\n",
      "Processed: balloon_burst_12.wav\n",
      "Processed: balloon_burst_49.wav\n",
      "Processed: balloon_burst_3.wav\n",
      "Processed: balloon_burst_2.wav\n",
      "Processed: balloon_burst_48.wav\n",
      "Processed: balloon_burst_1.wav\n",
      "Processed: balloon_burst_5.wav\n",
      "Processed: balloon_burst_4.wav\n",
      "Processed: balloon_burst_6.wav\n",
      "Processed: balloon_burst_7.wav\n",
      "Processed: balloon_burst_40.wav\n",
      "Processed: balloon_burst_41.wav\n",
      "Processed: balloon_burst_43.wav\n",
      "Processed: balloon_burst_9.wav\n",
      "Processed: balloon_burst_8.wav\n",
      "Processed: balloon_burst_42.wav\n",
      "Processed: balloon_burst_46.wav\n",
      "Processed: balloon_burst_47.wav\n",
      "Processed: balloon_burst_45.wav\n",
      "Processed: balloon_burst_50.wav\n",
      "Processed: balloon_burst_44.wav\n",
      "Processed: balloon_burst_23.wav\n",
      "Processed: balloon_burst_37.wav\n",
      "Processed: balloon_burst_36.wav\n",
      "Processed: balloon_burst_22.wav\n",
      "Processed: balloon_burst_34.wav\n",
      "Processed: balloon_burst_20.wav\n",
      "Processed: balloon_burst_21.wav\n",
      "Processed: balloon_burst_35.wav\n",
      "Processed: balloon_burst_31.wav\n",
      "Processed: balloon_burst_25.wav\n",
      "Processed: balloon_burst_19.wav\n",
      "Processed: balloon_burst_18.wav\n",
      "Processed: balloon_burst_24.wav\n",
      "Processed: balloon_burst_30.wav\n",
      "Processed: balloon_burst_26.wav\n",
      "Processed: balloon_burst_32.wav\n",
      "Processed: balloon_burst_33.wav\n",
      "Processed: balloon_burst_27.wav\n"
     ]
    }
   ],
   "source": [
    "# Set the paths for the audio folder and target folder\n",
    "audio_folder = 'data/toy_dataset/input/dry'\n",
    "target_folder = 'data/toy_dataset/input/wet'\n",
    "param_folder = 'data/toy_dataset/target'\n",
    "\n",
    "# Create the dataset\n",
    "create_dataset(audio_folder, target_folder, param_folder)"
   ]
  },
  {
   "cell_type": "code",
   "execution_count": null,
   "metadata": {},
   "outputs": [],
   "source": []
  }
 ],
 "metadata": {
  "kernelspec": {
   "display_name": "metal",
   "language": "python",
   "name": "python3"
  },
  "language_info": {
   "codemirror_mode": {
    "name": "ipython",
    "version": 3
   },
   "file_extension": ".py",
   "mimetype": "text/x-python",
   "name": "python",
   "nbconvert_exporter": "python",
   "pygments_lexer": "ipython3",
   "version": "3.10.10"
  },
  "orig_nbformat": 4
 },
 "nbformat": 4,
 "nbformat_minor": 2
}
