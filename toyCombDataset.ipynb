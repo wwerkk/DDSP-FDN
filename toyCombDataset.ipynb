{
 "cells": [
  {
   "cell_type": "code",
   "execution_count": null,
   "metadata": {},
   "outputs": [],
   "source": [
    "import os\n",
    "import numpy as np\n",
    "from scipy.io import wavfile\n",
    "from scipy.signal import lfilter"
   ]
  },
  {
   "cell_type": "code",
   "execution_count": null,
   "metadata": {},
   "outputs": [],
   "source": [
    "# Function to apply a comb filter to audio data\n",
    "def apply_comb_filter(data, fs, w0, gain):\n",
    "    delay = int(fs / w0)  # Calculate the delay in samples\n",
    "    feedback_gain = gain  # Feedback gain for the comb filter\n",
    "    comb_filter = np.zeros(delay + 1)\n",
    "    comb_filter[0] = 1\n",
    "\n",
    "    # Apply the comb filter using a difference equation\n",
    "    filtered_data = lfilter([1], comb_filter, data)\n",
    "    filtered_data[delay:] -= feedback_gain * filtered_data[:-delay]\n",
    "\n",
    "    return filtered_data"
   ]
  },
  {
   "cell_type": "code",
   "execution_count": null,
   "metadata": {},
   "outputs": [],
   "source": [
    "# Function to process audio files and generate dataset\n",
    "def create_dataset(audio_folder, target_folder, w_values=[100, 200, 300, 400, 500], g_values=[0.2, 0.4, 0.6, 0.8, 1.0]):\n",
    "    # Create target folder if it doesn't exist\n",
    "    if not os.path.exists(target_folder):\n",
    "        os.makedirs(target_folder)\n",
    "\n",
    "    # List all audio files in the input folder\n",
    "    audio_files = os.listdir(audio_folder)\n",
    "\n",
    "    for audio_file in audio_files:\n",
    "        # Load the audio file\n",
    "        audio_path = os.path.join(audio_folder, audio_file)\n",
    "        fs, audio_data = wavfile.read(audio_path)\n",
    "\n",
    "        for i, (w, gain) in enumerate(zip(w_values, g_values)):\n",
    "            # Apply the comb filter with gain to the audio data\n",
    "            filtered_data = apply_comb_filter(audio_data, fs, w, gain)\n",
    "\n",
    "            # Save the filtered data to a new audio file\n",
    "            target_path = os.path.join(target_folder, f'{audio_file}_{i}.wav')\n",
    "            wavfile.write(target_path, fs, filtered_data)\n",
    "\n",
    "            # Save the w0 and gain values as targets for the neural network\n",
    "            target_values = np.array([w, gain])\n",
    "            target_file = f'{audio_file}_{i}.npy'\n",
    "            target_path = os.path.join(target_folder, target_file)\n",
    "            np.save(target_path, target_values)\n",
    "\n",
    "        print(f'Processed: {audio_file}')"
   ]
  },
  {
   "cell_type": "code",
   "execution_count": null,
   "metadata": {},
   "outputs": [],
   "source": [
    "# Set the paths for the audio folder and target folder\n",
    "audio_folder = 'path/to/audio/folder'\n",
    "target_folder = 'path/to/target/folder'\n",
    "\n",
    "# Create the dataset\n",
    "create_dataset(audio_folder, target_folder)"
   ]
  }
 ],
 "metadata": {
  "language_info": {
   "name": "python"
  },
  "orig_nbformat": 4
 },
 "nbformat": 4,
 "nbformat_minor": 2
}
